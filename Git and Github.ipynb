{
 "cells": [
  {
   "cell_type": "markdown",
   "metadata": {
    "slideshow": {
     "slide_type": "slide"
    }
   },
   "source": [
    "<u>\n",
    "From Introductory Programming to the Real World\n",
    "==========================\n",
    "</u>\n",
    "Git and Github\n",
    "======="
   ]
  },
  {
   "cell_type": "markdown",
   "metadata": {
    "slideshow": {
     "slide_type": "notes"
    }
   },
   "source": [
    "* Set up Git\n",
    "* Create Local git repositorie\n",
    "* Changes\n",
    "* History\n",
    "* Github"
   ]
  },
  {
   "cell_type": "markdown",
   "metadata": {
    "slideshow": {
     "slide_type": "slide"
    }
   },
   "source": [
    "## BIG Thanks to:\n",
    "\n",
    "![Software Carpentary](fig/swcarpentry.png)"
   ]
  },
  {
   "cell_type": "markdown",
   "metadata": {
    "slideshow": {
     "slide_type": "slide"
    }
   },
   "source": [
    "## These are slides are adapted from their git-novice tutorials\n",
    "\n",
    "http://swcarpentry.github.io/git-novice/index.html\n",
    "\n",
    "## The branching part is taken from the book: Pro-Git\n",
    "\n",
    "http://git-scm.com/doc"
   ]
  },
  {
   "cell_type": "markdown",
   "metadata": {
    "slideshow": {
     "slide_type": "slide"
    }
   },
   "source": [
    "What is Version Control?\n",
    "==========="
   ]
  },
  {
   "cell_type": "markdown",
   "metadata": {
    "slideshow": {
     "slide_type": "slide"
    }
   },
   "source": [
    "[![Piled Higher and Deeper by Jorge Cham, http://www.phdcomics.com](fig/phd101212s.gif)](http://www.phdcomics.com)\n",
    "\n",
    "\"Piled Higher and Deeper\" by Jorge Cham, http://www.phdcomics.com\n",
    "\n",
    "\n",
    "\n"
   ]
  },
  {
   "cell_type": "markdown",
   "metadata": {
    "slideshow": {
     "slide_type": "slide"
    }
   },
   "source": [
    "### Changes are saved sequentially\n",
    "\n",
    "![Changes are saved sequentially](fig/play-changes.svg)\n"
   ]
  },
  {
   "cell_type": "markdown",
   "metadata": {
    "slideshow": {
     "slide_type": "slide"
    }
   },
   "source": [
    "### Different version can be saved\n",
    "\n",
    "![Different versions can be saved](fig/versions.svg)"
   ]
  },
  {
   "cell_type": "markdown",
   "metadata": {
    "slideshow": {
     "slide_type": "slide"
    }
   },
   "source": [
    "\n",
    "## You can also merge the changes\n",
    "\n",
    "![Multiple versions can be merged](fig/merge.svg)\n",
    "\n",
    "* **A version control system is a tool that keeps track of changes for us**.\n",
    "\n",
    "It allows you to\n",
    "decide which changes make up the next version, called a\n",
    "[commit](reference.html#commit), and keeps useful metadata about them. The\n",
    "complete history of commits for a particular project and their metadata make up\n",
    "a [repository](reference.html#repository). Repositories can be kept in sync\n",
    "across different computers facilitating collaboration among different people."
   ]
  },
  {
   "cell_type": "markdown",
   "metadata": {
    "slideshow": {
     "slide_type": "slide"
    }
   },
   "source": [
    "1. Set Up Git\n",
    "======"
   ]
  },
  {
   "cell_type": "markdown",
   "metadata": {
    "slideshow": {
     "slide_type": "slide"
    }
   },
   "source": [
    "```bash\n",
    "$ git config --global user.name \"Kakashi Hatake\"\n",
    "```\n",
    "\n",
    "```bash\n",
    "$ git config --global user.email \"kakashi@konaha.jp\"\n",
    "```"
   ]
  },
  {
   "cell_type": "markdown",
   "metadata": {
    "slideshow": {
     "slide_type": "slide"
    }
   },
   "source": [
    "## 2. Create a Local Git Repository"
   ]
  },
  {
   "cell_type": "markdown",
   "metadata": {
    "slideshow": {
     "slide_type": "slide"
    }
   },
   "source": [
    "### Create a directory\n",
    "\n",
    "```bash\n",
    "$ mkdir konaha\n",
    "```\n",
    "\n",
    "```bash\n",
    "$ cd konaha\n",
    "```\n"
   ]
  },
  {
   "cell_type": "markdown",
   "metadata": {
    "slideshow": {
     "slide_type": "fragment"
    }
   },
   "source": [
    "### Initiate Git\n",
    "\n",
    "```bash\n",
    "$ git init\n",
    "```"
   ]
  },
  {
   "cell_type": "markdown",
   "metadata": {
    "slideshow": {
     "slide_type": "fragment"
    }
   },
   "source": [
    "```bash\n",
    "$ ls\n",
    "```"
   ]
  },
  {
   "cell_type": "markdown",
   "metadata": {
    "slideshow": {
     "slide_type": "slide"
    }
   },
   "source": [
    "## Nothing Changed!"
   ]
  },
  {
   "cell_type": "markdown",
   "metadata": {
    "slideshow": {
     "slide_type": "slide"
    }
   },
   "source": [
    "```bash\n",
    "$ ls -a\n",
    "```"
   ]
  },
  {
   "cell_type": "markdown",
   "metadata": {
    "slideshow": {
     "slide_type": "fragment"
    }
   },
   "source": [
    "```bash\n",
    ".\t..\t.git\n",
    "```"
   ]
  },
  {
   "cell_type": "markdown",
   "metadata": {
    "slideshow": {
     "slide_type": "slide"
    }
   },
   "source": [
    "## 3. Changes"
   ]
  },
  {
   "cell_type": "markdown",
   "metadata": {
    "slideshow": {
     "slide_type": "slide"
    }
   },
   "source": [
    "```bash\n",
    "$ nano zabuza.txt\n",
    "```\n"
   ]
  },
  {
   "cell_type": "markdown",
   "metadata": {
    "slideshow": {
     "slide_type": "slide"
    }
   },
   "source": [
    "```bash\n",
    "$ git status\n",
    "```"
   ]
  },
  {
   "cell_type": "markdown",
   "metadata": {
    "slideshow": {
     "slide_type": "fragment"
    }
   },
   "source": [
    "```bash\n",
    "# On branch master\n",
    "#\n",
    "# Initial commit\n",
    "#\n",
    "# Untracked files:\n",
    "#   (use \"git add <file>...\" to include in what will be committed)\n",
    "#\n",
    "#\tzabuza.txt\n",
    "nothing added to commit but untracked files present (use \"git add\" to track)\n",
    "```\n"
   ]
  },
  {
   "cell_type": "markdown",
   "metadata": {
    "slideshow": {
     "slide_type": "slide"
    }
   },
   "source": [
    "### Git Add \n",
    "\n",
    "\n"
   ]
  },
  {
   "cell_type": "markdown",
   "metadata": {
    "slideshow": {
     "slide_type": "slide"
    }
   },
   "source": [
    "```bash\n",
    "$ git add mars.txt\n",
    "```\n"
   ]
  },
  {
   "cell_type": "markdown",
   "metadata": {
    "slideshow": {
     "slide_type": "fragment"
    }
   },
   "source": [
    "\n",
    "```bash\n",
    "$ git status\n",
    "```\n",
    "\n",
    "```bash\n",
    "# On branch master\n",
    "#\n",
    "# Initial commit\n",
    "#\n",
    "# Changes to be committed:\n",
    "#   (use \"git rm --cached <file>...\" to unstage)\n",
    "#\n",
    "#\tnew file:   zabuza.txt\n",
    "#\n",
    "```\n"
   ]
  },
  {
   "cell_type": "markdown",
   "metadata": {
    "slideshow": {
     "slide_type": "slide"
    }
   },
   "source": [
    "### then commit"
   ]
  },
  {
   "cell_type": "markdown",
   "metadata": {
    "slideshow": {
     "slide_type": "fragment"
    }
   },
   "source": [
    "```bash\n",
    "$ git commit\n",
    "```\n"
   ]
  },
  {
   "cell_type": "markdown",
   "metadata": {
    "slideshow": {
     "slide_type": "fragment"
    }
   },
   "source": [
    "\n",
    "```\n",
    "[master (root-commit) f22b25e] Start notes on my mission to kill zabuza\n",
    " 1 file changed, 1 insertion(+)\n",
    " create mode 100644 zabuza.txt\n",
    "```\n"
   ]
  },
  {
   "cell_type": "markdown",
   "metadata": {
    "slideshow": {
     "slide_type": "slide"
    }
   },
   "source": [
    "![The Git Commit Workflow](fig/git-committing.svg)\n"
   ]
  },
  {
   "cell_type": "markdown",
   "metadata": {
    "slideshow": {
     "slide_type": "slide"
    }
   },
   "source": [
    "### Logs\n",
    "\n",
    "```bash\n",
    "$ git log\n",
    "```\n"
   ]
  },
  {
   "cell_type": "markdown",
   "metadata": {
    "slideshow": {
     "slide_type": "fragment"
    }
   },
   "source": [
    "```\n",
    "commit 3a2f3ffda9b1c9be53702983423f3e066b148776\n",
    "Author: Kakashi Hatake <kakashi@konaha.jp>\n",
    "Date:   Thu Oct 8 02:59:46 2015 +0530\n",
    "\n",
    "    Start notes on my mission to kill zabuza\n",
    "```"
   ]
  },
  {
   "cell_type": "markdown",
   "metadata": {
    "slideshow": {
     "slide_type": "slide"
    }
   },
   "source": [
    "### Write Good commit messages\n",
    "\n",
    "![Git Commit](git_commit.png)\n",
    "\n",
    "[xkcd 1296](https://xkcd.com/1296/)"
   ]
  },
  {
   "cell_type": "markdown",
   "metadata": {
    "slideshow": {
     "slide_type": "slide"
    }
   },
   "source": [
    "## 4. Exploring History"
   ]
  },
  {
   "cell_type": "markdown",
   "metadata": {
    "slideshow": {
     "slide_type": "slide"
    }
   },
   "source": [
    "#### Lets make few more changes!"
   ]
  },
  {
   "cell_type": "markdown",
   "metadata": {
    "slideshow": {
     "slide_type": "slide"
    }
   },
   "source": [
    "```bash\n",
    "$ git diff\n",
    "```"
   ]
  },
  {
   "cell_type": "markdown",
   "metadata": {
    "slideshow": {
     "slide_type": "slide"
    }
   },
   "source": [
    "```bash\n",
    "$ git diff HEAD~1\n",
    "```"
   ]
  },
  {
   "cell_type": "markdown",
   "metadata": {
    "slideshow": {
     "slide_type": "slide"
    }
   },
   "source": [
    "#### Lets move back in time"
   ]
  },
  {
   "cell_type": "markdown",
   "metadata": {
    "slideshow": {
     "slide_type": "slide"
    }
   },
   "source": [
    "```bash\n",
    "$ git checkout HEAD~2 zabuza.txt\n",
    "```\n",
    "\n",
    "You can also replace HEAD~2 by unique indentifier of the commit.\n",
    "```bash\n",
    "$ git checkout ff2b25e zabuza.txt\n",
    "```\n"
   ]
  },
  {
   "cell_type": "markdown",
   "metadata": {
    "slideshow": {
     "slide_type": "slide"
    }
   },
   "source": [
    "![Git Checkout](fig/git-checkout.svg)"
   ]
  },
  {
   "cell_type": "markdown",
   "metadata": {
    "slideshow": {
     "slide_type": "slide"
    }
   },
   "source": [
    "## 5. Github"
   ]
  },
  {
   "cell_type": "markdown",
   "metadata": {
    "slideshow": {
     "slide_type": "slide"
    }
   },
   "source": [
    "![Creating a Repository on GitHub (Step 1)](fig/github-create-repo-01.png)\n"
   ]
  },
  {
   "cell_type": "markdown",
   "metadata": {
    "slideshow": {
     "slide_type": "slide"
    }
   },
   "source": [
    "![Creating a Repository on GitHub (Step 2)](fig/github-create-repo-02.png)\n"
   ]
  },
  {
   "cell_type": "markdown",
   "metadata": {
    "slideshow": {
     "slide_type": "slide"
    }
   },
   "source": [
    "![Creating a Repository on GitHub (Step 3)](fig/github-create-repo-03.png)\n"
   ]
  },
  {
   "cell_type": "markdown",
   "metadata": {
    "slideshow": {
     "slide_type": "slide"
    }
   },
   "source": [
    "![Changing the Repository URL on GitHub](fig/github-change-repo-string.png)\n"
   ]
  },
  {
   "cell_type": "markdown",
   "metadata": {
    "slideshow": {
     "slide_type": "slide"
    }
   },
   "source": [
    "```bash\n",
    "$ git remote add origin https://github.com/kakashi/konaha.git\n",
    "```\n"
   ]
  },
  {
   "cell_type": "markdown",
   "metadata": {
    "slideshow": {
     "slide_type": "slide"
    }
   },
   "source": [
    "```bash\n",
    "$ git remote -v\n",
    "```\n",
    "\n",
    "```\n",
    "origin   https://github.com/kakashi/konaha.git (push)\n",
    "origin   https://github.com/kakashi/konaha.git (fetch)\n",
    "```\n"
   ]
  },
  {
   "cell_type": "markdown",
   "metadata": {
    "slideshow": {
     "slide_type": "slide"
    }
   },
   "source": [
    "```bash\n",
    "$ git push origin master\n",
    "```\n",
    "\n",
    "```\n",
    "Counting objects: 9, done.\n",
    "Delta compression using up to 4 threads.\n",
    "Compressing objects: 100% (6/6), done.\n",
    "Writing objects: 100% (9/9), 821 bytes, done.\n",
    "Total 9 (delta 2), reused 0 (delta 0)\n",
    "To https://github.com/vlad/planets\n",
    " * [new branch]      master -> master\n",
    "Branch master set up to track remote branch master from origin.\n",
    "```"
   ]
  },
  {
   "cell_type": "markdown",
   "metadata": {
    "slideshow": {
     "slide_type": "slide"
    }
   },
   "source": [
    "### Try setting up proxy if you are facing trouble\n",
    "\n",
    " ```bash\n",
    " $ git config --global http.proxy http://10.3.100.207\n",
    " $ git config --global https.proxy http://10.3.100.207\n",
    " ```\n"
   ]
  },
  {
   "cell_type": "markdown",
   "metadata": {
    "collapsed": true
   },
   "source": [
    "## 6. Create your github.io website"
   ]
  },
  {
   "cell_type": "markdown",
   "metadata": {},
   "source": [
    "### Lets have a look at a HTML page\n",
    "\n",
    "```html\n",
    "<html>\n",
    "\n",
    "<body>\n",
    "  <h1>This is my First HTML page</h1>\n",
    "\n",
    "  <h2>These are basic tags</h2>\n",
    "\n",
    "  <b>This is Bold</b>\n",
    "\n",
    "  <i>I'm in italics</i>\n",
    "\n",
    "  <p> And I'm none of them<p>\n",
    "\n",
    "</body>\n",
    "\n",
    "</html>\n",
    "```"
   ]
  },
  {
   "cell_type": "markdown",
   "metadata": {},
   "source": [
    "### Here's what you get when you open a browser\n",
    "\n",
    "![First HTML](fig/first_html.png)"
   ]
  },
  {
   "cell_type": "markdown",
   "metadata": {},
   "source": [
    "## Introducing Markdown; Markup for Humans\n",
    "\n",
    "* Fully Plain Text\n",
    "* Easy to read\n",
    "* Easy to write"
   ]
  },
  {
   "cell_type": "markdown",
   "metadata": {},
   "source": [
    "```markdown\n",
    "# This is my first HTML page\n",
    "\n",
    "## These are basic formatting\n",
    "\n",
    "**This is Bold**\n",
    "_This is italics_\n",
    "\n",
    "And I'm none of them.\n",
    "```"
   ]
  },
  {
   "cell_type": "markdown",
   "metadata": {},
   "source": [
    "# This is my first HTML page\n",
    "\n",
    "## These are basic formatting\n",
    "\n",
    "**This is Bold**\n",
    "_This is italics_\n",
    "\n",
    "And I'm none of them."
   ]
  },
  {
   "cell_type": "markdown",
   "metadata": {},
   "source": [
    "### A website is a set of pages connected by hyperlinks\n",
    "\n",
    "* Create links using the format\n",
    "```\n",
    "[Visit GitHub!](https://www.github.com)\n",
    "```\n",
    "\n",
    "[Visit GitHub!](https://www.github.com)"
   ]
  },
  {
   "cell_type": "markdown",
   "metadata": {},
   "source": [
    "# Markdown is everywhere\n",
    "\n",
    "* In my Jupyter Notebook\n",
    "* On stackexchange\n",
    "* On Coursera/Stackexchange sites\n",
    "* And it on GitHub!!"
   ]
  },
  {
   "cell_type": "markdown",
   "metadata": {},
   "source": [
    "## Lets create a website"
   ]
  },
  {
   "cell_type": "markdown",
   "metadata": {},
   "source": [
    "## Convert Markdown to HTML\n",
    "\n",
    "* Can use special purpose tools like: pandoc\n",
    "\n",
    "### We'll use static site generator\n",
    "\n",
    "* There are lot of them. Jekyll, Pellican and Nikola are few of them.\n",
    "* We'll use `embellish` because it is very simple.\n",
    "\n",
    "```bash\n",
    "$ embellish .\n",
    "```"
   ]
  },
  {
   "cell_type": "markdown",
   "metadata": {},
   "source": [
    "## Deploying on Github\n",
    "\n",
    "* Lets follow instructions from https://help.github.com/articles/user-organization-and-project-pages/"
   ]
  },
  {
   "cell_type": "markdown",
   "metadata": {},
   "source": [
    "## Branches\n",
    "\n",
    "```bash\n",
    "$ git branch\n",
    "```"
   ]
  },
  {
   "cell_type": "markdown",
   "metadata": {},
   "source": [
    "```bash\n",
    "$ git branch testing\n",
    "```\n",
    "\n",
    "```bash\n",
    "$ git branch\n",
    "testing\n",
    "* master\n",
    "```"
   ]
  },
  {
   "cell_type": "markdown",
   "metadata": {},
   "source": [
    "![](fig/head-to-master.png)"
   ]
  },
  {
   "cell_type": "markdown",
   "metadata": {},
   "source": [
    "```bash\n",
    "$ git checkout testing\n",
    "```"
   ]
  },
  {
   "cell_type": "markdown",
   "metadata": {},
   "source": [
    "```bash\n",
    "$ vim test.md\n",
    "$ git commit -a -m 'made a change'\n",
    "```"
   ]
  },
  {
   "cell_type": "markdown",
   "metadata": {},
   "source": [
    "![](fig/advance-testing.png)"
   ]
  },
  {
   "cell_type": "markdown",
   "metadata": {},
   "source": [
    "```bash\n",
    "$ git checkout master\n",
    "```\n",
    "\n",
    "```bash\n",
    "$ vim test.md\n",
    "$ git commit -a -m 'made other changes'\n",
    "```"
   ]
  },
  {
   "cell_type": "markdown",
   "metadata": {},
   "source": [
    "![](fig/advance-master.png)"
   ]
  }
 ],
 "metadata": {
  "celltoolbar": "Slideshow",
  "kernelspec": {
   "display_name": "Python 3",
   "language": "python",
   "name": "python3"
  },
  "language_info": {
   "codemirror_mode": {
    "name": "ipython",
    "version": 3
   },
   "file_extension": ".py",
   "mimetype": "text/x-python",
   "name": "python",
   "nbconvert_exporter": "python",
   "pygments_lexer": "ipython3",
   "version": "3.4.3"
  }
 },
 "nbformat": 4,
 "nbformat_minor": 0
}
